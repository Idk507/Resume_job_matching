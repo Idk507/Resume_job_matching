{
 "cells": [
  {
   "cell_type": "code",
   "execution_count": 8,
   "metadata": {},
   "outputs": [],
   "source": [
    "import os\n",
    "import PyPDF2\n",
    "from bs4 import BeautifulSoup\n",
    "import pandas as pd"
   ]
  },
  {
   "cell_type": "code",
   "execution_count": 9,
   "metadata": {},
   "outputs": [],
   "source": [
    "\n",
    "parent_folder = r\"C:\\Users\\danus\\Downloads\\resume\\data\"\n",
    "ids = []\n",
    "resumes = []\n",
    "categories = []"
   ]
  },
  {
   "cell_type": "code",
   "execution_count": 14,
   "metadata": {},
   "outputs": [],
   "source": [
    "for category in os.listdir(parent_folder):\n",
    "    category_folder = os.path.join(parent_folder, category)\n",
    "    if os.path.isdir(category_folder):\n",
    "        for filename in os.listdir(category_folder):\n",
    "            if filename.endswith('.pdf'):\n",
    "                pdf_path = os.path.join(category_folder, filename)\n",
    "\n",
    "               \n",
    "                pdf_text = \"\"\n",
    "                pdf_reader = PyPDF2.PdfReader(open(pdf_path, 'rb'))\n",
    "                for page_num in range(len(pdf_reader.pages)):\n",
    "                    pdf_text += pdf_reader.pages[page_num].extract_text()\n",
    "\n",
    "             \n",
    "                ids.append(filename)\n",
    "                resumes.append(pdf_text)\n",
    "                categories.append(category)\n",
    "\n",
    "data = {'ID Resume': ids, 'Resume': resumes, 'Category': categories}\n",
    "df = pd.DataFrame(data)\n",
    "\n",
    "\n",
    "df.to_csv('extracted_data.csv', index=False)\n"
   ]
  },
  {
   "cell_type": "code",
   "execution_count": null,
   "metadata": {},
   "outputs": [],
   "source": []
  },
  {
   "cell_type": "code",
   "execution_count": null,
   "metadata": {},
   "outputs": [],
   "source": []
  }
 ],
 "metadata": {
  "kernelspec": {
   "display_name": "my_gpu",
   "language": "python",
   "name": "python3"
  },
  "language_info": {
   "codemirror_mode": {
    "name": "ipython",
    "version": 3
   },
   "file_extension": ".py",
   "mimetype": "text/x-python",
   "name": "python",
   "nbconvert_exporter": "python",
   "pygments_lexer": "ipython3",
   "version": "3.8.17"
  },
  "orig_nbformat": 4
 },
 "nbformat": 4,
 "nbformat_minor": 2
}
