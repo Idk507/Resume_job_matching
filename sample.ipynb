{
 "cells": [
  {
   "cell_type": "code",
   "execution_count": 2,
   "metadata": {},
   "outputs": [],
   "source": [
    "import os\n",
    "import PyPDF2  as pdf"
   ]
  },
  {
   "cell_type": "code",
   "execution_count": 3,
   "metadata": {},
   "outputs": [
    {
     "data": {
      "text/plain": [
       "'3.0.1'"
      ]
     },
     "execution_count": 3,
     "metadata": {},
     "output_type": "execute_result"
    }
   ],
   "source": [
    "pdf.__version__"
   ]
  },
  {
   "cell_type": "code",
   "execution_count": 4,
   "metadata": {},
   "outputs": [
    {
     "data": {
      "text/plain": [
       "['DocumentInformation',\n",
       " 'PageObject',\n",
       " 'PageRange',\n",
       " 'PaperSize',\n",
       " 'PasswordType',\n",
       " 'PdfFileMerger',\n",
       " 'PdfFileReader',\n",
       " 'PdfFileWriter',\n",
       " 'PdfMerger',\n",
       " 'PdfReader',\n",
       " 'PdfWriter',\n",
       " 'Transformation',\n",
       " '__all__',\n",
       " '__builtins__',\n",
       " '__cached__',\n",
       " '__doc__',\n",
       " '__file__',\n",
       " '__loader__',\n",
       " '__name__',\n",
       " '__package__',\n",
       " '__path__',\n",
       " '__spec__',\n",
       " '__version__',\n",
       " '__warningregistry__',\n",
       " '_cmap',\n",
       " '_codecs',\n",
       " '_encryption',\n",
       " '_merger',\n",
       " '_page',\n",
       " '_protocols',\n",
       " '_reader',\n",
       " '_security',\n",
       " '_utils',\n",
       " '_version',\n",
       " '_writer',\n",
       " 'constants',\n",
       " 'errors',\n",
       " 'filters',\n",
       " 'generic',\n",
       " 'pagerange',\n",
       " 'papersizes',\n",
       " 'parse_filename_page_ranges',\n",
       " 'types',\n",
       " 'warnings',\n",
       " 'xmp']"
      ]
     },
     "execution_count": 4,
     "metadata": {},
     "output_type": "execute_result"
    }
   ],
   "source": [
    "dir(pdf)"
   ]
  },
  {
   "cell_type": "code",
   "execution_count": 5,
   "metadata": {},
   "outputs": [],
   "source": [
    "from PyPDF2 import PdfReader,PdfWriter"
   ]
  },
  {
   "cell_type": "code",
   "execution_count": 8,
   "metadata": {},
   "outputs": [],
   "source": [
    "file = open(\"./10554236.pdf\",\"rb\")\n",
    "reader = PdfReader(file)"
   ]
  },
  {
   "cell_type": "code",
   "execution_count": 9,
   "metadata": {},
   "outputs": [
    {
     "data": {
      "text/plain": [
       "<PyPDF2._reader.PdfReader at 0x24035def880>"
      ]
     },
     "execution_count": 9,
     "metadata": {},
     "output_type": "execute_result"
    }
   ],
   "source": [
    "reader"
   ]
  },
  {
   "cell_type": "code",
   "execution_count": 12,
   "metadata": {},
   "outputs": [],
   "source": [
    "info = reader.metadata #the title of dics"
   ]
  },
  {
   "cell_type": "code",
   "execution_count": 13,
   "metadata": {},
   "outputs": [],
   "source": [
    "info.author"
   ]
  },
  {
   "cell_type": "code",
   "execution_count": 18,
   "metadata": {},
   "outputs": [
    {
     "data": {
      "text/plain": [
       "5"
      ]
     },
     "execution_count": 18,
     "metadata": {},
     "output_type": "execute_result"
    }
   ],
   "source": [
    "len(reader.pages)"
   ]
  },
  {
   "cell_type": "code",
   "execution_count": 15,
   "metadata": {},
   "outputs": [
    {
     "data": {
      "text/plain": [
       "{'/Title': '',\n",
       " '/Creator': 'wkhtmltopdf 0.12.4',\n",
       " '/Producer': 'Qt 4.8.7',\n",
       " '/CreationDate': \"D:20210808154924+05'30'\"}"
      ]
     },
     "execution_count": 15,
     "metadata": {},
     "output_type": "execute_result"
    }
   ],
   "source": [
    "info"
   ]
  },
  {
   "cell_type": "code",
   "execution_count": 20,
   "metadata": {},
   "outputs": [
    {
     "data": {
      "text/plain": [
       "'ACCOUNTANT\\nSummary\\nFinancial Accountant specializing in financial planning, reporting and analysis within the Department of Defense.\\nHighlights\\nAccount reconciliations\\nResults-oriented\\nFinancial reporting\\nCritical thinking\\nAccounting operations professional\\nAnalysis of financial systems\\nERP (Enterprise Resource Planning) software.\\nExcellent facilitator\\nAccomplishments\\nServed on a tiger team which identified and resolved General Ledger postings in DEAMS totaling $360B in accounting adjustments. This allowed\\nfor the first successful fiscal year-end close for 2012.\\nIn collaboration with DFAS Europe, developed an automated tool that identified duplicate obligations. This tool allowed HQ USAFE to\\ndeobligate over $5M in duplicate obligations.\\nExperience\\nCompany Name\\n \\nJuly 2011\\n \\nto \\nNovember 2012\\n \\nAccountant\\n \\nCity\\n \\n, \\nState\\nEnterprise Resource Planning Office (ERO)\\nIn this position as an Accountant assigned to the Defense Enterprise Accounting and Management System (DEAMS) ERO I was\\nresponsible for identifying and resolving issues affecting the DEAMS General Ledger.\\nI worked with teammates from the Procure to Pay, Orders to Cash, and Budget to Report areas to resolve daily challenges encountered\\nwith the deployment of DEAMS to additional customers and when system change requests were promoted to production.\\nI supported the testing of scripts, patches, and system change requests ensuring any anomalies were identified to the DEAMS Functional\\nManagement Office for action by the DEAMS Program Management Office and/or the System Integrator.\\nIn addition, I served on a tiger team designed to identify and resolve General Ledger posting differences and supported the development of\\n$360B in accounting adjustments allowing for the first successful fiscal year-end close in 2012.\\nThese actions also allowed for the reconciliation and closure of fiscal year 2010 and 2011 accounting adjustments ensuring that all DEAMS\\nfiscal year-end requirements were completed.\\nThese actions were recognized as critical to the successful review report issued by the Air Force Operational Test and Evaluation Center\\n(AFOTEC) resulting in the Air Force receiving the authority to continue with the deployment of DEAMS.\\nCompany Name\\n \\nApril 2010\\n \\nto \\nJune 2011\\n \\nResource Advisor\\n \\nCity\\n \\n, \\nState\\nIn this position as Resource Advisor for the 1st Air Communications Operation Squadron (1ACOS) I was responsible for providing\\nfinancial advice and decision support to the Commander.\\nI was responsible for coordinating a $4.6M budget between four funding sources.\\nI coordinated with USAFE Directorate of Intelligence (USAFE/A2), USAFE Directorate of Air and Space Operations (USAFE/A3),\\nUSAFE Directorate of Communications (USAFE/A6) and the 435th Air Ground Operations Wing to ensure 1ACOS meets its mission\\nrequirements.\\nI consistently managed three separate timelines for providing budget/unfunded requirements, providing documentation and various reports in\\nthe required format for each organization.\\nI discussed the outcome of the Group and Directorate budget meetings providing feedback the same day to the Flight Chiefs and CC any\\nissue which affects 1ACOS directly.\\nI monitored the Defense Travel System (DTS) daily and identify orders and authorizations needing approval and provided notification to the\\nappropriate Reviewing Officials and Approvers.\\nUtilizing DTS and the General Accounting and Finance System I reviewed status reports to identify anomalies in obligations and have\\nidentified those orders which require correction prior to payment.\\nI provided Government Purchase Card (GPC) status reports the same day they are requested and in addition, communicated with the\\nappropriate cardholders when changes were required to support their program.\\nI identified cardholder training requirements and monitored these requirements to ensure all required training was completed in support of\\nthis mission critical program.\\nI developed guidance for the GPC cardholders on procedures for requesting training for the squadron and in addition I provided answers to\\ncardholder questions on unique or non-standard issues/concerns.'"
      ]
     },
     "execution_count": 20,
     "metadata": {},
     "output_type": "execute_result"
    }
   ],
   "source": [
    "reader.pages[0].extract_text()"
   ]
  },
  {
   "cell_type": "code",
   "execution_count": 24,
   "metadata": {},
   "outputs": [],
   "source": [
    "def get_pdf_metadata(pdf_path):\n",
    "    with open(pdf_path,\"rb\") as f:\n",
    "        reader = PdfReader(f)\n",
    "        info = reader.metadata\n",
    "    return info"
   ]
  },
  {
   "cell_type": "code",
   "execution_count": 25,
   "metadata": {},
   "outputs": [
    {
     "data": {
      "text/plain": [
       "{'/Title': '',\n",
       " '/Creator': 'wkhtmltopdf 0.12.4',\n",
       " '/Producer': 'Qt 4.8.7',\n",
       " '/CreationDate': \"D:20210808154924+05'30'\"}"
      ]
     },
     "execution_count": 25,
     "metadata": {},
     "output_type": "execute_result"
    }
   ],
   "source": [
    "get_pdf_metadata(\"10554236.pdf\")"
   ]
  },
  {
   "cell_type": "code",
   "execution_count": 29,
   "metadata": {},
   "outputs": [],
   "source": [
    "def extract_text_from_pdf(pdf_path):\n",
    "    with open(pdf_path,\"rb\") as f:\n",
    "        reader = PdfReader(f)\n",
    "        results = []\n",
    "        for i in range(0,len(reader.pages)):\n",
    "            selected_page = reader.pages[i]\n",
    "            text = selected_page.extract_text()\n",
    "            results.append(text)\n",
    "        return ' '.join(results)"
   ]
  },
  {
   "cell_type": "code",
   "execution_count": null,
   "metadata": {},
   "outputs": [],
   "source": [
    "extract_text_from_pdf(\"10554236.pdf\")"
   ]
  },
  {
   "cell_type": "code",
   "execution_count": 33,
   "metadata": {},
   "outputs": [],
   "source": [
    "def split_pdf(pdf_path):\n",
    "    with open(pdf_path,\"rb\") as f:\n",
    "        reader = PdfReader(f)\n",
    "        for page_num in range(0,len(reader.pages)):\n",
    "            selected_page = reader.pages[page_num]\n",
    "            writer = PdfWriter()\n",
    "            writer.add_page(selected_page)\n",
    "            filename = os.path.splitext(pdf_path)[0]\n",
    "            output_filename = f\"{filename}_page_{page_num}.pdf\"\n",
    "            with open(output_filename,\"wb\") as out:\n",
    "                writer.write(out)\n",
    "            print(\"created a pdf :{}\".format(output_filename))\n",
    "            "
   ]
  },
  {
   "cell_type": "code",
   "execution_count": 34,
   "metadata": {},
   "outputs": [
    {
     "name": "stdout",
     "output_type": "stream",
     "text": [
      "created a pdf :10554236_page_0.pdf\n",
      "created a pdf :10554236_page_1.pdf\n",
      "created a pdf :10554236_page_2.pdf\n",
      "created a pdf :10554236_page_3.pdf\n",
      "created a pdf :10554236_page_4.pdf\n"
     ]
    }
   ],
   "source": [
    "split_pdf(\"10554236.pdf\")"
   ]
  },
  {
   "cell_type": "code",
   "execution_count": null,
   "metadata": {},
   "outputs": [],
   "source": []
  }
 ],
 "metadata": {
  "kernelspec": {
   "display_name": "my_gpu",
   "language": "python",
   "name": "python3"
  },
  "language_info": {
   "codemirror_mode": {
    "name": "ipython",
    "version": 3
   },
   "file_extension": ".py",
   "mimetype": "text/x-python",
   "name": "python",
   "nbconvert_exporter": "python",
   "pygments_lexer": "ipython3",
   "version": "3.8.17"
  },
  "orig_nbformat": 4
 },
 "nbformat": 4,
 "nbformat_minor": 2
}
